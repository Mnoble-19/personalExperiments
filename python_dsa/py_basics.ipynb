{
 "cells": [
  {
   "cell_type": "markdown",
   "metadata": {},
   "source": [
    "## Python Basics Data Types"
   ]
  },
  {
   "cell_type": "markdown",
   "metadata": {},
   "source": [
    "#### Primer on core python stuff\n",
    "\n",
    "* Basic (Numeric, Boolean)\n",
    "* Sequences (Lists, Strings, Range)\n",
    "* Membership stuff ( in, not in)\n",
    "* Identity (is, is not)\n",
    "* Tuples (like lists but unmutable)\n",
    "* Dicts (.items(), .popitem(), .update(<obj>))\n",
    "* Sets { | , &}\n"
   ]
  },
  {
   "cell_type": "markdown",
   "metadata": {},
   "source": [
    "#### Collections module\n"
   ]
  },
  {
   "cell_type": "code",
   "execution_count": 2,
   "metadata": {},
   "outputs": [
    {
     "name": "stdout",
     "output_type": "stream",
     "text": [
      "12345\n",
      "5\n"
     ]
    }
   ],
   "source": [
    "### namedtuple\n",
    "## is like object from tuple\n",
    "from collections import namedtuple\n",
    "\n",
    "Book = namedtuple(\"Book\", ['name', \"isbn\", \"quantity\"])\n",
    "Book1 = Book(\"Python\", 12345, 5)\n",
    "\n",
    "print(Book1.isbn)\n",
    "print(Book1.quantity)"
   ]
  },
  {
   "cell_type": "code",
   "execution_count": 3,
   "metadata": {},
   "outputs": [],
   "source": [
    "#### Deque\n",
    "\n",
    "from collections import deque\n",
    "noble_queue = deque([1, 2, 'name'])\n",
    "noble_queue.append('age') #pop() also possible\n",
    "noble_queue.appendleft('rizz')#popleft also available\n"
   ]
  },
  {
   "cell_type": "code",
   "execution_count": 5,
   "metadata": {},
   "outputs": [
    {
     "name": "stdout",
     "output_type": "stream",
     "text": [
      "defaultdict(<class 'int'>, {'data': 4, 'python': 2, 'structure': 1})\n"
     ]
    }
   ],
   "source": [
    "#default_dict is like normal dict, but can be used when key is not present\n",
    "from collections import defaultdict\n",
    "dd = defaultdict(int)\n",
    "words = str.split('data python data data structure data python')\n",
    "for word in words:\n",
    "    dd[word] += 1\n",
    "print(dd)"
   ]
  },
  {
   "cell_type": "code",
   "execution_count": 6,
   "metadata": {},
   "outputs": [
    {
     "name": "stdout",
     "output_type": "stream",
     "text": [
      "ChainMap({'data': 1, 'structure': 2}, {'python': 3, 'language': 4})\n",
      "['python', 'language', 'data', 'structure']\n",
      "[3, 4, 1, 2]\n",
      "1\n",
      "4\n"
     ]
    }
   ],
   "source": [
    "#chainmap is list of dicts\n",
    "from collections import ChainMap\n",
    "dict1 = {\"data\": 1, \"structure\": 2}\n",
    "dict2 = {\"python\": 3, \"language\": 4}\n",
    "chain = ChainMap(dict1, dict2)\n",
    "print(chain)\n",
    "print(list(chain.keys()))\n",
    "print(list(chain.values()))\n",
    "print(chain[\"data\"])\n",
    "print(chain[\"language\"])"
   ]
  },
  {
   "cell_type": "code",
   "execution_count": 7,
   "metadata": {},
   "outputs": [
    {
     "name": "stdout",
     "output_type": "stream",
     "text": [
      "2\n"
     ]
    }
   ],
   "source": [
    "from collections import Counter\n",
    "inventory = Counter('hello')\n",
    "\n",
    "print(inventory['l'])"
   ]
  }
 ],
 "metadata": {
  "kernelspec": {
   "display_name": ".venv",
   "language": "python",
   "name": "python3"
  },
  "language_info": {
   "codemirror_mode": {
    "name": "ipython",
    "version": 3
   },
   "file_extension": ".py",
   "mimetype": "text/x-python",
   "name": "python",
   "nbconvert_exporter": "python",
   "pygments_lexer": "ipython3",
   "version": "3.11.7"
  }
 },
 "nbformat": 4,
 "nbformat_minor": 2
}
